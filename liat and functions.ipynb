{
 "cells": [
  {
   "cell_type": "code",
   "execution_count": 3,
   "id": "5283b49a",
   "metadata": {},
   "outputs": [
    {
     "data": {
      "text/plain": [
       "list"
      ]
     },
     "execution_count": 3,
     "metadata": {},
     "output_type": "execute_result"
    }
   ],
   "source": [
    "month=['january','febrauary']\n",
    "type(month)"
   ]
  },
  {
   "cell_type": "code",
   "execution_count": 11,
   "id": "f65b8f10",
   "metadata": {},
   "outputs": [
    {
     "name": "stdout",
     "output_type": "stream",
     "text": [
      "['january', 'febrauary', ['march', 'april']]\n"
     ]
    }
   ],
   "source": [
    "months=[\"january\",\"febrauary\"]\n",
    "months.append([\"march\",\"april\"])\n",
    "print(months)"
   ]
  },
  {
   "cell_type": "code",
   "execution_count": null,
   "id": "ec5ebd03",
   "metadata": {},
   "outputs": [],
   "source": [
    "list.append() is used to add an element at the end of the list"
   ]
  },
  {
   "cell_type": "code",
   "execution_count": 9,
   "id": "baa29e96",
   "metadata": {},
   "outputs": [
    {
     "name": "stdout",
     "output_type": "stream",
     "text": [
      "['ram', 'rekha', 'raja', 'kala', 'mala', 'leena', 'teena']\n"
     ]
    }
   ],
   "source": [
    "a=[\"ram\",\"rekha\"]\n",
    "b=[\"raja\",\"kala\",\"mala\",\"leena\",\"teena\"]\n",
    "a.extend(b)\n",
    "print(a)"
   ]
  },
  {
   "cell_type": "code",
   "execution_count": null,
   "id": "d89a7421",
   "metadata": {},
   "outputs": [],
   "source": [
    "list.extend() is used to add all the items of a list to the end of this list\n"
   ]
  },
  {
   "cell_type": "code",
   "execution_count": 12,
   "id": "ebed2c5e",
   "metadata": {},
   "outputs": [
    {
     "name": "stdout",
     "output_type": "stream",
     "text": [
      "['ram', 'rekha', 'meena', 'raja', 'kala', 'mala', 'leena', 'teena']\n"
     ]
    }
   ],
   "source": [
    "a.insert(2,\"meena\")\n",
    "print(a)"
   ]
  },
  {
   "cell_type": "code",
   "execution_count": null,
   "id": "1bc75929",
   "metadata": {},
   "outputs": [],
   "source": [
    "list.insert() is used to insert an element at the defined index\n"
   ]
  },
  {
   "cell_type": "code",
   "execution_count": 18,
   "id": "62113da9",
   "metadata": {},
   "outputs": [
    {
     "name": "stdout",
     "output_type": "stream",
     "text": [
      "['ram', 'rekha', 'raja', 'mala', 'leena', 'teena']\n"
     ]
    }
   ],
   "source": [
    "a.remove(\"kala\")\n",
    "print(a)"
   ]
  },
  {
   "cell_type": "code",
   "execution_count": null,
   "id": "8de92dfa",
   "metadata": {},
   "outputs": [],
   "source": [
    "list.remove() is used to remove a particular element from the list"
   ]
  },
  {
   "cell_type": "code",
   "execution_count": 19,
   "id": "21d1c69a",
   "metadata": {},
   "outputs": [
    {
     "name": "stdout",
     "output_type": "stream",
     "text": [
      "['ram', 'raja', 'mala', 'leena', 'teena']\n"
     ]
    }
   ],
   "source": [
    "a.pop(1)\n",
    "print(a)"
   ]
  },
  {
   "cell_type": "code",
   "execution_count": null,
   "id": "075536c3",
   "metadata": {},
   "outputs": [],
   "source": [
    "list.pop() is used to remove an particular element from the list"
   ]
  },
  {
   "cell_type": "code",
   "execution_count": 20,
   "id": "0b260c80",
   "metadata": {},
   "outputs": [
    {
     "name": "stdout",
     "output_type": "stream",
     "text": [
      "[]\n"
     ]
    }
   ],
   "source": [
    "a.clear()\n",
    "print(a)"
   ]
  },
  {
   "cell_type": "code",
   "execution_count": null,
   "id": "c640e073",
   "metadata": {},
   "outputs": [],
   "source": [
    "list.clear() is to clear all the elements from the list"
   ]
  },
  {
   "cell_type": "code",
   "execution_count": 23,
   "id": "634e3c5e",
   "metadata": {},
   "outputs": [
    {
     "name": "stdout",
     "output_type": "stream",
     "text": [
      "1\n"
     ]
    }
   ],
   "source": [
    "a=[\"ram\",\"sam\",\"raja\",\"ram\"]\n",
    "print(a.index(\"sam\"))"
   ]
  },
  {
   "cell_type": "code",
   "execution_count": null,
   "id": "826450c1",
   "metadata": {},
   "outputs": [],
   "source": [
    "list.index() is used to find the index value of the given element"
   ]
  },
  {
   "cell_type": "code",
   "execution_count": 24,
   "id": "cd92cb8e",
   "metadata": {},
   "outputs": [
    {
     "name": "stdout",
     "output_type": "stream",
     "text": [
      "2\n"
     ]
    }
   ],
   "source": [
    "print(a.count(\"ram\"))"
   ]
  },
  {
   "cell_type": "code",
   "execution_count": null,
   "id": "d1dcac40",
   "metadata": {},
   "outputs": [],
   "source": [
    "list.count() is used to count the number items with the specified value"
   ]
  },
  {
   "cell_type": "code",
   "execution_count": 30,
   "id": "b8c39206",
   "metadata": {},
   "outputs": [
    {
     "name": "stdout",
     "output_type": "stream",
     "text": [
      "[1, 2, 3, 4, 5, 6]\n",
      "[6, 5, 4, 3, 2, 1]\n"
     ]
    }
   ],
   "source": [
    "a=[6,3,4,1,5,2]\n",
    "a.sort()\n",
    "print(a)\n",
    "a.sort(reverse=True)\n",
    "print(a)"
   ]
  },
  {
   "cell_type": "code",
   "execution_count": null,
   "id": "43cce83a",
   "metadata": {},
   "outputs": [],
   "source": [
    "a.sort() is used to arrange a list in ascending order it can also sort a list in reverse order\n"
   ]
  },
  {
   "cell_type": "code",
   "execution_count": 31,
   "id": "c5df8c96",
   "metadata": {},
   "outputs": [
    {
     "name": "stdout",
     "output_type": "stream",
     "text": [
      "[1, 2, 3, 4]\n",
      "[1, 2, 3, 4]\n"
     ]
    }
   ],
   "source": [
    "a=[1,2,3,4]\n",
    "b=a.copy()\n",
    "print(a)\n",
    "print(b)"
   ]
  },
  {
   "cell_type": "code",
   "execution_count": null,
   "id": "67b4b083",
   "metadata": {},
   "outputs": [],
   "source": []
  }
 ],
 "metadata": {
  "kernelspec": {
   "display_name": "Python 3 (ipykernel)",
   "language": "python",
   "name": "python3"
  },
  "language_info": {
   "codemirror_mode": {
    "name": "ipython",
    "version": 3
   },
   "file_extension": ".py",
   "mimetype": "text/x-python",
   "name": "python",
   "nbconvert_exporter": "python",
   "pygments_lexer": "ipython3",
   "version": "3.11.4"
  }
 },
 "nbformat": 4,
 "nbformat_minor": 5
}
